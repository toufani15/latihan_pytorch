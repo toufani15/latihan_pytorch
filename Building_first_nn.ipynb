{
 "cells": [
  {
   "cell_type": "code",
   "execution_count": null,
   "metadata": {},
   "outputs": [],
   "source": [
    "import torch\n",
    "import numpy as np\n",
    "import matplotlib.pyplot as plt\n",
    "from torch.autograd import Variable"
   ]
  },
  {
   "cell_type": "code",
   "execution_count": 41,
   "metadata": {},
   "outputs": [],
   "source": [
    "def get_data():\n",
    "    x_train = torch.from_numpy(np.asarray([1.1, 2.2, 3.3, 4.4, 5.5, 6.6]))\n",
    "    y_train = torch.from_numpy(np.asarray([1.3, 2.3, 4.1, 3.2, 3.5, 3.5]))\n",
    "    dtype = torch.FloatTensor\n",
    "    x = Variable(x_train.type(dtype), requires_grad = False).view(6,1)\n",
    "    y = Variable(y_train.type(dtype), requires_grad = False)\n",
    "    return x,y"
   ]
  },
  {
   "cell_type": "code",
   "execution_count": 42,
   "metadata": {},
   "outputs": [],
   "source": [
    "def get_weight():\n",
    "    w = Variable(torch.randn(1), requires_grad = True)\n",
    "    b = Variable(torch.randn(1), requires_grad = True)\n",
    "    return w,b"
   ]
  },
  {
   "cell_type": "code",
   "execution_count": 83,
   "metadata": {},
   "outputs": [],
   "source": [
    "def simple_network():\n",
    "    y_pred = torch.matmul(x,w) + b \n",
    "    return y_pred"
   ]
  },
  {
   "cell_type": "code",
   "execution_count": 81,
   "metadata": {},
   "outputs": [],
   "source": [
    "def aktivasi(inputan):\n",
    "    import math\n",
    "    sig = 1/(1+exp(inputan))\n",
    "    return sig"
   ]
  },
  {
   "cell_type": "code",
   "execution_count": 114,
   "metadata": {},
   "outputs": [],
   "source": [
    "x, y = get_data()\n",
    "w, b = get_weight()\n",
    "ypred = simple_network()"
   ]
  },
  {
   "cell_type": "code",
   "execution_count": 115,
   "metadata": {},
   "outputs": [
    {
     "name": "stdout",
     "output_type": "stream",
     "text": [
      "[[0.28748884 0.31038969 0.33425896 0.35900824 0.38453154 0.41070675]]\n"
     ]
    }
   ],
   "source": [
    "akt = []\n",
    "for i in simple_network():\n",
    "    out = aktivasi(i)\n",
    "    akt.append(out)\n",
    "c = np.array(akt).reshape(1,6)\n",
    "print(c)"
   ]
  },
  {
   "cell_type": "code",
   "execution_count": 127,
   "metadata": {},
   "outputs": [],
   "source": [
    "def loss_fn(y, y_pred):\n",
    "    loss = (y-ypred)*(y-ypred)\n",
    "    loss = sum(loss)\n",
    "    for param in [w,b]:\n",
    "        if not param.grad is None:\n",
    "            param.grad.data.zero_()\n",
    "    loss.backward()\n",
    "    return loss.data[0]"
   ]
  },
  {
   "cell_type": "code",
   "execution_count": 128,
   "metadata": {},
   "outputs": [
    {
     "data": {
      "text/plain": [
       "39.94199752807617"
      ]
     },
     "execution_count": 128,
     "metadata": {},
     "output_type": "execute_result"
    }
   ],
   "source": [
    "loss_fn(y, ypred)"
   ]
  },
  {
   "cell_type": "markdown",
   "metadata": {},
   "source": [
    "## REGRESSION USING MEAS SQUEARE ERROR LOSS OPTIMIZER"
   ]
  },
  {
   "cell_type": "code",
   "execution_count": 131,
   "metadata": {},
   "outputs": [],
   "source": [
    "import torch.nn as nn\n",
    "from torch import optim"
   ]
  },
  {
   "cell_type": "code",
   "execution_count": 149,
   "metadata": {},
   "outputs": [],
   "source": [
    "loss = nn.MSELoss()\n",
    "inputan = Variable(torch.randn(3,5), requires_grad=True)\n",
    "target = Variable(torch.randn(3,5))\n",
    "output = loss(inputan, target)"
   ]
  },
  {
   "cell_type": "code",
   "execution_count": 150,
   "metadata": {},
   "outputs": [],
   "source": [
    "output.backward()"
   ]
  },
  {
   "cell_type": "code",
   "execution_count": null,
   "metadata": {},
   "outputs": [],
   "source": []
  },
  {
   "cell_type": "markdown",
   "metadata": {},
   "source": [
    "## CLASSIFICATION USING CROSS ENTROPY LOSS OPTIMIZER"
   ]
  },
  {
   "cell_type": "code",
   "execution_count": 201,
   "metadata": {},
   "outputs": [],
   "source": [
    "loss_c = nn.CrossEntropyLoss()\n",
    "inputan_c  = Variable(torch.randn(3,5), requires_grad = True)\n",
    "target_c = Variable(torch.LongTensor(3).random_(5))\n",
    "output_c = loss_c(inputan_c, target_c)"
   ]
  },
  {
   "cell_type": "code",
   "execution_count": 202,
   "metadata": {},
   "outputs": [],
   "source": [
    "output_c.backward()"
   ]
  },
  {
   "cell_type": "code",
   "execution_count": 203,
   "metadata": {},
   "outputs": [
    {
     "data": {
      "text/plain": [
       "Variable containing:\n",
       " 0.0114  0.1266  0.0533  0.1121 -0.3035\n",
       " 0.0258  0.0454 -0.1704  0.0734  0.0257\n",
       " 0.0648  0.1449 -0.2647  0.0346  0.0204\n",
       "[torch.FloatTensor of size 3x5]"
      ]
     },
     "execution_count": 203,
     "metadata": {},
     "output_type": "execute_result"
    }
   ],
   "source": [
    "inputan_c.grad"
   ]
  },
  {
   "cell_type": "code",
   "execution_count": 204,
   "metadata": {},
   "outputs": [
    {
     "data": {
      "text/plain": [
       "Variable containing:\n",
       " 0.0114  0.1266  0.0533  0.1121 -0.3035\n",
       " 0.0258  0.0454 -0.1704  0.0734  0.0257\n",
       " 0.0648  0.1449 -0.2647  0.0346  0.0204\n",
       "[torch.FloatTensor of size 3x5]"
      ]
     },
     "execution_count": 204,
     "metadata": {},
     "output_type": "execute_result"
    }
   ],
   "source": [
    "inputan_c.grad"
   ]
  },
  {
   "cell_type": "code",
   "execution_count": 205,
   "metadata": {},
   "outputs": [
    {
     "data": {
      "text/plain": [
       "Variable containing:\n",
       " 1.5691\n",
       "[torch.FloatTensor of size 1]"
      ]
     },
     "execution_count": 205,
     "metadata": {},
     "output_type": "execute_result"
    }
   ],
   "source": [
    "output_c"
   ]
  },
  {
   "cell_type": "code",
   "execution_count": 1,
   "metadata": {},
   "outputs": [],
   "source": [
    "import glob"
   ]
  },
  {
   "cell_type": "code",
   "execution_count": 9,
   "metadata": {},
   "outputs": [
    {
     "data": {
      "text/plain": [
       "['Kamus pytorch.txt', 'Teori pendukung.txt']"
      ]
     },
     "execution_count": 9,
     "metadata": {},
     "output_type": "execute_result"
    }
   ],
   "source": [
    "glob.glob('*.txt')"
   ]
  },
  {
   "cell_type": "code",
   "execution_count": null,
   "metadata": {},
   "outputs": [],
   "source": []
  }
 ],
 "metadata": {
  "kernelspec": {
   "display_name": "Python 3",
   "language": "python",
   "name": "python3"
  },
  "language_info": {
   "codemirror_mode": {
    "name": "ipython",
    "version": 3
   },
   "file_extension": ".py",
   "mimetype": "text/x-python",
   "name": "python",
   "nbconvert_exporter": "python",
   "pygments_lexer": "ipython3",
   "version": "3.6.5"
  }
 },
 "nbformat": 4,
 "nbformat_minor": 2
}
